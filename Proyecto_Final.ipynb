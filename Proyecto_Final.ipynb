{
 "cells": [
  {
   "cell_type": "markdown",
   "metadata": {
    "id": "kegH31D9TmYk"
   },
   "source": [
    "# **Curso Introductorio de Python - Proyecto Final**"
   ]
  },
  {
   "cell_type": "markdown",
   "metadata": {
    "id": "Pxj3Bz92T-SE"
   },
   "source": [
    "En este proyecto final podrán integrar los conocimientos adquiridos a lo largo del curso implementando una aplicación práctica que esperamos sirva como un puntapié inicial para la creación de muchos más proyectos en su futuro de todo tipo de complejidad.\n",
    "\n",
    "**Objetivos del proyecto**:\n",
    "\n",
    "*   Que el participante domine las bases de la programación en Python.\n",
    "*   Que el participante tenga conocimientos elementales sobre la lectura de archivos, procesamiento de datos, y visualización de datos.\n",
    "*   Que el participante pueda encontrar y aplicar conocimientos que vayan más allá de los explicados en el curso.\n",
    "*   Que el participante tenga una experiencia de aplicación de la programación Python a un ejemplo práctico.\n",
    "\n",
    "Se presentan diferentes opciones de proyectos, de dificultad comparable, para que cada uno pueda elegir el que considere más interesante, es decir que deben realizar uno sólo de los proyectos entre las opciones.\n"
   ]
  },
  {
   "cell_type": "markdown",
   "metadata": {
    "id": "d6mrZ0toqrRx"
   },
   "source": [
    "**Fecha de entrega**:\n",
    " * **30 junio de 2022**\n",
    "\n",
    "**Modalidad de entrega**:\n",
    " * **El archivo *.ipynb* o *.py* y los archivos *.PNG* se deben enviar al email silvia.salinas@kibernumacademy.com\n",
    "\n"
   ]
  },
  {
   "cell_type": "markdown",
   "metadata": {
    "id": "kkd0rLgO1KSx"
   },
   "source": [
    "**Detalles de la entrega:**\n",
    "\n",
    "*   Se debe entregar **1 único archivo *.py*** ó ***.ipynb*** con su código en Python. Normalmente se utilizan muchos archivos en un mismo proyecto, pero para este caso les pedimos unificar todo para simplificar el proceso de entrega y corrección.\n",
    "\n",
    "*   En el archivo del código en Python **se valorará en la corrección las explicaciones del funcionamiento del programa y los razonamientos de su solución**. Esto pueden realizarlo mediante comentarios en el código.\n",
    "\n",
    "*   Además del código en Python, **deberán enviar un gráfico** en formato *.PNG* generado **siguiendo las indicaciones en la descripción del proyecto**. Esto les sirve a ustedes y a nosotros para saber que se encuentran en buen camino.\n",
    "\n",
    "*   El programa debe ser **robusto**, es decir, con pocas probabilidades de fallar al alterar su entrada. Si el formato de la entrada del usuario no es el esperado **el programa no debe *crashear***, sino manejar la situación acordemente. Una estrategia para detectar posibles fallos es imaginarse que una persona esta empeñada en producir un error en su programa y pensar: **¿Qué intentaría esta persona para romper el código?** Esto involucra, por ejemplo, contemplar casos en que el usuario ingrese texto cuando se esperaba un número, o que ingrese un valor desconocido, una clave que no se encuentra en un diccionario, un índice mayor al tamaño de una lista, etc.\n",
    "\n",
    "*   Tienen libertad de usar su propio criterio para decidir como implementar aquellos detalles que no estén especificados en la descripción.\n",
    "\n",
    "*   La descripción de los proyectos especifica las características mínimas que deben tener. **Damos libertad para agregar funcionalidad o mejorar el proyecto si así lo desean, en tanto se cumpla con todos los requisitos mínimos detallados en la descripción**.\n"
   ]
  },
  {
   "cell_type": "markdown",
   "metadata": {
    "id": "sGIp0nvGf9Ac"
   },
   "source": [
    "**Corrección:**\n",
    "\n",
    "*   Si el proyecto es aprobado se otorgará la nota alcanzada por haber completado el curso.\n",
    "\n",
    "*   Si se considera que el proyecto aún tiene detalles por corregir se les podrá pedir una re-entrega en una fecha posterior.\n",
    "\n"
   ]
  },
  {
   "cell_type": "markdown",
   "metadata": {
    "id": "40C-h2RsTAr-"
   },
   "source": [
    "# **Opción 1: Valor UF** - Regresión Lineal Simple\n",
    "\n",
    "#### *Análisis y visualización de el valor de la UF.*\n",
    "\n",
    "En esta era de la desinformación puede resultar útil poder sacar uno mismo sus propias conclusiones acerca de los datos. El objetivo de este trabajo es obtener datos del valor de la UF en Chile de un repositorio de datos online y graficar la tendencia.\n",
    "\n",
    "**Funcionalidad mínima a entregar (requisito):**\n",
    "\n",
    "* El desafío consiste en hacer un programa en Python que debe recibir del usuario el mes y año deseado y mostrar al usuario el  gráfico del valor de la uf en función del tiempo, obteniendo los datos desde la página del SII.\n",
    "\n",
    "* Se debe diseñar un modelo predictivo usando regresiones lineales con los datos del mes y año seleccionado por el usuario. Entregar los parámetros de la ecuación y los indicadores de validación del modelo de regresión.\n",
    "\n",
    "* Finalmente el programa debe permitir almacenar en un archivo *.xlsx* o *.csv* los valores ordenados por fecha.\n",
    "\n",
    "**Gráfico a entregar (requisito):**\n",
    "\n",
    "* Graficar la nube de puntos y la recta de la regresión del mes anterior (Mayo 2022). Guardar el archivo *.PNG*\n",
    "\n",
    "**Sugerencias:**\n",
    "\n",
    "* Recuerde utilizar los conceptos aprendidos sobre webscrapping para obtener el conjunto de datos\n",
    "* Recuerde verificar la calidad y consistencia de los datos (manejo de valores faltantes, formatos y tipos de datos, etc.)\n",
    "* Recuerde utilizar manejo de errores en la recepción del mes y año por parte del usuario\n"
   ]
  },
  {
   "cell_type": "code",
   "execution_count": 2,
   "metadata": {
    "id": "ASU5hpqvTY62"
   },
   "outputs": [
    {
     "data": {
      "text/plain": [
       "'https://www.sii.cl/valores_y_fechas/uf/uf2022.htm'"
      ]
     },
     "execution_count": 2,
     "metadata": {},
     "output_type": "execute_result"
    }
   ],
   "source": [
    "#los datos se encuentran en este repositorio\n",
    "'https://www.sii.cl/valores_y_fechas/uf/uf2022.htm'\n"
   ]
  },
  {
   "cell_type": "code",
   "execution_count": null,
   "metadata": {
    "id": "ybYwDnPfTSo4"
   },
   "outputs": [],
   "source": []
  },
  {
   "cell_type": "markdown",
   "metadata": {
    "id": "lVowRzeIL3sr"
   },
   "source": [
    "# **Opción 2: Análisis de datos de preferencia** - Regresión lineal múltiple"
   ]
  },
  {
   "cell_type": "markdown",
   "metadata": {
    "id": "YeXTkpeNdBCY"
   },
   "source": [
    "Puede trabajar su proyecto con un dataset propio con el cuál trate de responder a las funcionalidades mínimas\n",
    "\n",
    "**Funcionalidad mínima (requisito):**\n",
    "\n",
    "*   Para el conjunto de datos seleccionado, se debe poder diseñar un programa que genere un modelo predictivo usando regresiones lineales múltiple. (tener más de un par de variables)\n",
    "\n",
    "*   El program debe entregar los parámetros de la ecuación y los indicadores de ajuste del modelo\n",
    "\n",
    "*   Finalmente el programa debe poder almacenar los resultados en un archivo de texto *.txt* o *.csv*.\n",
    "\n",
    "**Gráfico a entregar (requisito):**\n",
    "\n",
    "* Graficar la nube de puntos y la recta de la regresión\n",
    "\n",
    "* Para el gráfico generado el usuario deberá poder ingresar un nombre de archivo y el programa debera generar un archivo *.PNG* del gráfico con el nombre indicado.\n",
    "\n",
    "**Sugerencias:**\n",
    "\n",
    "* Recuerde utilizar los conceptos aprendidos sobre conexión a distintas fuentes para obtener el conjunto de datos.\n",
    "* Recuerde verificar la calidad y consistencia de los datos (manejo de valores faltantes, formatos y tipos de datos, etc.)\n",
    "* Recuerde utilizar manejo de errores en la interacción con el usuario.\n",
    "\n"
   ]
  },
  {
   "cell_type": "code",
   "execution_count": null,
   "metadata": {},
   "outputs": [],
   "source": []
  }
 ],
 "metadata": {
  "colab": {
   "collapsed_sections": [],
   "name": "Proyecto Integrador.ipynb",
   "provenance": []
  },
  "kernelspec": {
   "display_name": "Python 3 (ipykernel)",
   "language": "python",
   "name": "python3"
  },
  "language_info": {
   "codemirror_mode": {
    "name": "ipython",
    "version": 3
   },
   "file_extension": ".py",
   "mimetype": "text/x-python",
   "name": "python",
   "nbconvert_exporter": "python",
   "pygments_lexer": "ipython3",
   "version": "3.9.12"
  }
 },
 "nbformat": 4,
 "nbformat_minor": 4
}
